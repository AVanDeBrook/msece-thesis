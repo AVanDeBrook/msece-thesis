{
 "cells": [
  {
   "cell_type": "markdown",
   "metadata": {},
   "source": [
    "# WordLevel Tokenizer\n",
    "* Instantiate the model with a whitespace split pre-tokenizer\n",
    "* Train the model on the training sentences only (with unknown, classification, separation, pad, and mask special tokens)\n",
    "* Tokenize the first sentence\n",
    "* Print out the output tokens\n",
    "* Print out the output token IDs\n",
    "* Tokenize \"you\", \"you're\", and \"you've\" to show the effects of the tokenizer on words with shared suffixes"
   ]
  },
  {
   "cell_type": "code",
   "execution_count": 3,
   "metadata": {},
   "outputs": [],
   "source": [
    "from tokenizers import Tokenizer\n",
    "from tokenizers.models import WordLevel\n",
    "from tokenizers.trainers import WordLevelTrainer\n",
    "from tokenizers.pre_tokenizers import WhitespaceSplit\n",
    "\n",
    "data = [\n",
    "    \"the quick brown fox jumps over the lazy dog\",\n",
    "    \"you you're and you've are all different words\"\n",
    "]\n",
    "\n",
    "tokenizer = Tokenizer(WordLevel(unk_token=\"[UNK]\"))\n",
    "tokenizer.pre_tokenizer = WhitespaceSplit()\n",
    "\n",
    "trainer = WordLevelTrainer(special_tokens=[\"[UNK]\", \"[CLS]\", \"[SEP]\", \"[PAD]\", \"[MASK]\"], show_progress=True)\n",
    "\n",
    "tokenizer.train_from_iterator(data, trainer, length=len(data))"
   ]
  },
  {
   "cell_type": "markdown",
   "metadata": {},
   "source": [
    "#### Tokenize a sentence identical to a training sample"
   ]
  },
  {
   "cell_type": "code",
   "execution_count": 16,
   "metadata": {},
   "outputs": [
    {
     "name": "stdout",
     "output_type": "stream",
     "text": [
      "['the', 'quick', 'brown', 'fox', 'jumps', 'over', 'the', 'lazy', 'dog']\n",
      "[5, 16, 9, 12, 13, 15, 5, 14, 11]\n"
     ]
    }
   ],
   "source": [
    "output = tokenizer.encode(\"the quick brown fox jumps over the lazy dog\")\n",
    "\n",
    "print(output.tokens)\n",
    "print(output.ids)"
   ]
  },
  {
   "cell_type": "markdown",
   "metadata": {},
   "source": [
    "#### Tokenize a sentence containing words with shared roots but differing suffixes"
   ]
  },
  {
   "cell_type": "code",
   "execution_count": 17,
   "metadata": {},
   "outputs": [
    {
     "name": "stdout",
     "output_type": "stream",
     "text": [
      "['you', \"you're\", \"you've\"]\n",
      "[18, 19, 20]\n"
     ]
    }
   ],
   "source": [
    "output = tokenizer.encode(\"you you're you've\")\n",
    "\n",
    "print(output.tokens)\n",
    "print(output.ids)"
   ]
  },
  {
   "cell_type": "markdown",
   "metadata": {},
   "source": [
    "#### Tokenize a sentence with an unknown word (doesn't appear in training data)"
   ]
  },
  {
   "cell_type": "code",
   "execution_count": 18,
   "metadata": {},
   "outputs": [
    {
     "name": "stdout",
     "output_type": "stream",
     "text": [
      "['[UNK]']\n",
      "[0]\n"
     ]
    }
   ],
   "source": [
    "output = tokenizer.encode(\"you'll\")\n",
    "\n",
    "print(output.tokens)\n",
    "print(output.ids)"
   ]
  },
  {
   "cell_type": "markdown",
   "metadata": {},
   "source": [
    "# WordPiece Tokenizer\n",
    "* Instantiate the model with a whitespace split pre-tokenizer\n",
    "* Train the model on the training sentences only (with unknown, classification, separation, pad, and mask special tokens)\n",
    "* Tokenize the first sentence\n",
    "* Print out the output tokens\n",
    "* Print out the output token IDs\n",
    "* Tokenize \"you\", \"you're\", and \"you've\" to show the effects of the tokenizer on words with shared suffixes"
   ]
  },
  {
   "cell_type": "code",
   "execution_count": 1,
   "metadata": {},
   "outputs": [
    {
     "name": "stdout",
     "output_type": "stream",
     "text": [
      "\n",
      "\n",
      "\n"
     ]
    }
   ],
   "source": [
    "from tokenizers import Tokenizer\n",
    "from tokenizers.models import WordPiece\n",
    "from tokenizers.trainers import WordPieceTrainer\n",
    "from tokenizers.pre_tokenizers import Whitespace\n",
    "\n",
    "data = [\n",
    "    \"the quick brown fox jumps over the lazy dog\",\n",
    "    \"you you're and you've are all different words\"\n",
    "]\n",
    "\n",
    "tokenizer = Tokenizer(WordPiece(unk_token=\"[UNK]\"))\n",
    "tokenizer.pre_tokenizer = Whitespace()\n",
    "\n",
    "trainer = WordPieceTrainer(special_tokens=[\"[UNK]\", \"[CLS]\", \"[SEP]\", \"[PAD]\", \"[MASK]\"], show_progress=True)\n",
    "\n",
    "tokenizer.train_from_iterator(data, trainer, length=len(data))"
   ]
  },
  {
   "cell_type": "markdown",
   "metadata": {},
   "source": [
    "#### Tokenize a sentence identical to a training sample"
   ]
  },
  {
   "cell_type": "code",
   "execution_count": 2,
   "metadata": {},
   "outputs": [
    {
     "name": "stdout",
     "output_type": "stream",
     "text": [
      "['the', 'quick', 'brown', 'fox', 'jumps', 'over', 'the', 'lazy', 'dog']\n",
      "[59, 98, 95, 88, 97, 91, 59, 90, 87]\n"
     ]
    }
   ],
   "source": [
    "output = tokenizer.encode(\"the quick brown fox jumps over the lazy dog\")\n",
    "\n",
    "print(output.tokens)\n",
    "print(output.ids)"
   ]
  },
  {
   "cell_type": "markdown",
   "metadata": {},
   "source": [
    "#### Tokenize a sentence containing words with shared roots but differing suffixes"
   ]
  },
  {
   "cell_type": "code",
   "execution_count": 3,
   "metadata": {},
   "outputs": [
    {
     "name": "stdout",
     "output_type": "stream",
     "text": [
      "['you', 'you', \"'\", 're', 'you', \"'\", 've']\n",
      "[56, 56, 5, 71, 56, 5, 72]\n"
     ]
    }
   ],
   "source": [
    "output = tokenizer.encode(\"you you're you've\")\n",
    "\n",
    "print(output.tokens)\n",
    "print(output.ids)"
   ]
  },
  {
   "cell_type": "markdown",
   "metadata": {},
   "source": [
    "#### Tokenize a sentence with an unknown word (doesn't appear in training data)"
   ]
  },
  {
   "cell_type": "code",
   "execution_count": 4,
   "metadata": {},
   "outputs": [
    {
     "name": "stdout",
     "output_type": "stream",
     "text": [
      "['you', \"'\", 'l', '##l']\n",
      "[56, 5, 17, 54]\n"
     ]
    }
   ],
   "source": [
    "output = tokenizer.encode(\"you'll\")\n",
    "\n",
    "print(output.tokens)\n",
    "print(output.ids)"
   ]
  },
  {
   "cell_type": "code",
   "execution_count": 5,
   "metadata": {},
   "outputs": [
    {
     "name": "stdout",
     "output_type": "stream",
     "text": [
      "['an', '##y', '##t', '##h', '##i', '##n', '##g']\n",
      "[61, 49, 37, 53, 32, 36, 39]\n"
     ]
    }
   ],
   "source": [
    "output = tokenizer.encode(\"anything\")\n",
    "\n",
    "print(output.tokens)\n",
    "print(output.ids)"
   ]
  },
  {
   "cell_type": "markdown",
   "metadata": {},
   "source": [
    "# Byte Pair Encoding Tokenizer\n",
    "* Instantiate the model with a whitespace split pre-tokenizer\n",
    "* Train the model on the training sentences only (with unknown, classification, separation, pad, and mask special tokens)\n",
    "* Tokenize the first sentence\n",
    "* Print out the output tokens\n",
    "* Print out the output token IDs\n",
    "* Tokenize \"you\", \"you're\", and \"you've\" to show the effects of the tokenizer on words with shared suffixes"
   ]
  },
  {
   "cell_type": "code",
   "execution_count": 7,
   "metadata": {},
   "outputs": [
    {
     "name": "stdout",
     "output_type": "stream",
     "text": [
      "\n",
      "\n",
      "\n"
     ]
    }
   ],
   "source": [
    "from tokenizers import Tokenizer\n",
    "from tokenizers.models import BPE\n",
    "from tokenizers.trainers import BpeTrainer\n",
    "from tokenizers.pre_tokenizers import Whitespace\n",
    "\n",
    "data = [\n",
    "    \"the quick brown fox jumps over the lazy dog\",\n",
    "    \"you you're and you've are all different words\"\n",
    "]\n",
    "\n",
    "tokenizer = Tokenizer(BPE(unk_token=\"[UNK]\"))\n",
    "tokenizer.pre_tokenizer = Whitespace()\n",
    "\n",
    "trainer = BpeTrainer(special_tokens=[\"[UNK]\", \"[CLS]\", \"[SEP]\", \"[PAD]\", \"[MASK]\"], show_progress=True)\n",
    "\n",
    "tokenizer.train_from_iterator(data, trainer, length=len(data))"
   ]
  },
  {
   "cell_type": "markdown",
   "metadata": {},
   "source": [
    "#### Tokenize a sentence identical to a training sample"
   ]
  },
  {
   "cell_type": "code",
   "execution_count": 8,
   "metadata": {},
   "outputs": [
    {
     "name": "stdout",
     "output_type": "stream",
     "text": [
      "['the', 'quick', 'brown', 'fox', 'jumps', 'over', 'the', 'lazy', 'dog']\n",
      "[36, 70, 72, 66, 74, 69, 36, 68, 64]\n"
     ]
    }
   ],
   "source": [
    "output = tokenizer.encode(\"the quick brown fox jumps over the lazy dog\")\n",
    "\n",
    "print(output.tokens)\n",
    "print(output.ids)"
   ]
  },
  {
   "cell_type": "markdown",
   "metadata": {},
   "source": [
    "#### Tokenize a sentence containing words with shared roots but differing suffixes"
   ]
  },
  {
   "cell_type": "code",
   "execution_count": 10,
   "metadata": {},
   "outputs": [
    {
     "name": "stdout",
     "output_type": "stream",
     "text": [
      "['you', 'you', \"'\", 're', 'you', \"'\", 've']\n",
      "[34, 34, 5, 33, 34, 5, 37]\n"
     ]
    }
   ],
   "source": [
    "output = tokenizer.encode(\"you you're you've\")\n",
    "\n",
    "print(output.tokens)\n",
    "print(output.ids)"
   ]
  },
  {
   "cell_type": "markdown",
   "metadata": {},
   "source": [
    "#### Tokenize a sentence with an unknown word (doesn't appear in training data)"
   ]
  },
  {
   "cell_type": "code",
   "execution_count": 4,
   "metadata": {},
   "outputs": [
    {
     "name": "stdout",
     "output_type": "stream",
     "text": [
      "['you', \"'\", 'l', 'l']\n",
      "[34, 5, 17, 17]\n"
     ]
    }
   ],
   "source": [
    "output = tokenizer.encode(\"you'll\")\n",
    "\n",
    "print(output.tokens)\n",
    "print(output.ids)"
   ]
  },
  {
   "cell_type": "code",
   "execution_count": 11,
   "metadata": {},
   "outputs": [
    {
     "name": "stdout",
     "output_type": "stream",
     "text": [
      "['an', 'y', 't', 'h', 'i', 'n', 'g']\n",
      "[39, 30, 25, 13, 14, 19, 12]\n"
     ]
    }
   ],
   "source": [
    "output = tokenizer.encode(\"anything\")\n",
    "\n",
    "print(output.tokens)\n",
    "print(output.ids)"
   ]
  },
  {
   "cell_type": "markdown",
   "metadata": {},
   "source": [
    "# Byte-level Byte Pair Encoding Tokenizer\n",
    "* Instantiate the model with a whitespace split pre-tokenizer\n",
    "* Train the model on the training sentences only (with unknown, classification, separation, pad, and mask special tokens)\n",
    "* Tokenize the first sentence\n",
    "* Print out the output tokens\n",
    "* Print out the output token IDs\n",
    "* Tokenize \"you\", \"you're\", and \"you've\" to show the effects of the tokenizer on words with shared suffixes"
   ]
  },
  {
   "cell_type": "code",
   "execution_count": 1,
   "metadata": {},
   "outputs": [
    {
     "name": "stdout",
     "output_type": "stream",
     "text": [
      "\n",
      "\n",
      "\n"
     ]
    }
   ],
   "source": [
    "from tokenizers import Tokenizer\n",
    "from tokenizers.models import BPE\n",
    "from tokenizers.trainers import BpeTrainer\n",
    "from tokenizers.pre_tokenizers import ByteLevel\n",
    "\n",
    "data = [\n",
    "    \"the quick brown fox jumps over the lazy dog\",\n",
    "    \"you you're and you've are all different words\"\n",
    "]\n",
    "\n",
    "tokenizer = Tokenizer(BPE(unk_token=\"[UNK]\"))\n",
    "tokenizer.pre_tokenizer = ByteLevel()\n",
    "\n",
    "trainer = BpeTrainer(special_tokens=[\"[UNK]\", \"[CLS]\", \"[SEP]\", \"[PAD]\", \"[MASK]\"], show_progress=True)\n",
    "\n",
    "tokenizer.train_from_iterator(data, trainer, length=len(data))"
   ]
  },
  {
   "cell_type": "markdown",
   "metadata": {},
   "source": [
    "#### Tokenize a sentence identical to a training sample"
   ]
  },
  {
   "cell_type": "code",
   "execution_count": 2,
   "metadata": {},
   "outputs": [
    {
     "name": "stdout",
     "output_type": "stream",
     "text": [
      "['Ġthe', 'Ġquick', 'Ġbrown', 'Ġfox', 'Ġjumps', 'Ġover', 'Ġthe', 'Ġlazy', 'Ġdog']\n",
      "[42, 86, 81, 82, 83, 85, 42, 84, 77]\n"
     ]
    }
   ],
   "source": [
    "output = tokenizer.encode(\"the quick brown fox jumps over the lazy dog\")\n",
    "\n",
    "print(output.tokens)\n",
    "print(output.ids)"
   ]
  },
  {
   "cell_type": "markdown",
   "metadata": {},
   "source": [
    "#### Tokenize a sentence containing words with shared roots but differing suffixes"
   ]
  },
  {
   "cell_type": "code",
   "execution_count": 3,
   "metadata": {},
   "outputs": [
    {
     "name": "stdout",
     "output_type": "stream",
     "text": [
      "['Ġyou', 'Ġyou', \"'re\", 'Ġyou', \"'ve\"]\n",
      "[37, 37, 43, 37, 44]\n"
     ]
    }
   ],
   "source": [
    "output = tokenizer.encode(\"you you're you've\")\n",
    "\n",
    "print(output.tokens)\n",
    "print(output.ids)"
   ]
  },
  {
   "cell_type": "markdown",
   "metadata": {},
   "source": [
    "#### Tokenize a sentence with an unknown word (doesn't appear in training data)"
   ]
  },
  {
   "cell_type": "code",
   "execution_count": 4,
   "metadata": {},
   "outputs": [
    {
     "name": "stdout",
     "output_type": "stream",
     "text": [
      "['Ġyou', \"'\", 'll']\n",
      "[37, 5, 55]\n"
     ]
    }
   ],
   "source": [
    "output = tokenizer.encode(\"you'll\")\n",
    "\n",
    "print(output.tokens)\n",
    "print(output.ids)"
   ]
  },
  {
   "cell_type": "code",
   "execution_count": 5,
   "metadata": {},
   "outputs": [
    {
     "name": "stdout",
     "output_type": "stream",
     "text": [
      "['Ġa', 'n', 'y', 't', 'h', 'i', 'n', 'g']\n",
      "[36, 19, 30, 25, 13, 14, 19, 12]\n"
     ]
    }
   ],
   "source": [
    "output = tokenizer.encode(\"anything\")\n",
    "\n",
    "print(output.tokens)\n",
    "print(output.ids)"
   ]
  }
 ],
 "metadata": {
  "kernelspec": {
   "display_name": "thesis",
   "language": "python",
   "name": "python3"
  },
  "language_info": {
   "codemirror_mode": {
    "name": "ipython",
    "version": 3
   },
   "file_extension": ".py",
   "mimetype": "text/x-python",
   "name": "python",
   "nbconvert_exporter": "python",
   "pygments_lexer": "ipython3",
   "version": "3.9.16"
  }
 },
 "nbformat": 4,
 "nbformat_minor": 2
}
